{
 "cells": [
  {
   "cell_type": "code",
   "execution_count": 1,
   "id": "ecd1d32e-f455-4e9e-bd8e-f90338e277bb",
   "metadata": {},
   "outputs": [
    {
     "name": "stderr",
     "output_type": "stream",
     "text": [
      "C:\\Users\\sande\\AppData\\Roaming\\mamba\\envs\\env\\lib\\site-packages\\tqdm\\auto.py:21: TqdmWarning: IProgress not found. Please update jupyter and ipywidgets. See https://ipywidgets.readthedocs.io/en/stable/user_install.html\n",
      "  from .autonotebook import tqdm as notebook_tqdm\n"
     ]
    }
   ],
   "source": [
    "import numpy as np\n",
    "import pandas as pd\n",
    "from helpers.clean_data import IndianNewsDataCleaner\n",
    "from helpers.tokenizer_indian import tokenize_function\n",
    "from datasets import Dataset\n",
    "from sklearn.model_selection import train_test_split"
   ]
  },
  {
   "cell_type": "code",
   "execution_count": 2,
   "id": "b29222b1-ed9d-4f13-9a2a-85d8e4bdbb55",
   "metadata": {},
   "outputs": [],
   "source": [
    "df = pd.read_csv(\"data/Indian_Financial_News.csv\", index_col=0)\n",
    "cleaner = IndianNewsDataCleaner(df, country='India', label = 'Sentiment')\n",
    "df_clean = (\n",
    "    cleaner\n",
    "    .map_sentiment()\n",
    "    .add_country()\n",
    "    .clean_text()\n",
    "    .filter_data()\n",
    "    .get_clean_data()\n",
    ")"
   ]
  },
  {
   "cell_type": "code",
   "execution_count": 3,
   "id": "cdd0613f-eabd-41d3-81c5-5bb41f34ff57",
   "metadata": {},
   "outputs": [
    {
     "data": {
      "text/html": [
       "<div>\n",
       "<style scoped>\n",
       "    .dataframe tbody tr th:only-of-type {\n",
       "        vertical-align: middle;\n",
       "    }\n",
       "\n",
       "    .dataframe tbody tr th {\n",
       "        vertical-align: top;\n",
       "    }\n",
       "\n",
       "    .dataframe thead th {\n",
       "        text-align: right;\n",
       "    }\n",
       "</style>\n",
       "<table border=\"1\" class=\"dataframe\">\n",
       "  <thead>\n",
       "    <tr style=\"text-align: right;\">\n",
       "      <th></th>\n",
       "      <th>URL</th>\n",
       "      <th>Content</th>\n",
       "      <th>Summary</th>\n",
       "      <th>Sentiment</th>\n",
       "      <th>country</th>\n",
       "    </tr>\n",
       "  </thead>\n",
       "  <tbody>\n",
       "    <tr>\n",
       "      <th>0</th>\n",
       "      <td>https://www.moneycontrol.com/news/business/eco...</td>\n",
       "      <td>US consumer spending dropped by a record in Ap...</td>\n",
       "      <td>consumer spending plunges 13.6 percent in Apri...</td>\n",
       "      <td>0</td>\n",
       "      <td>India</td>\n",
       "    </tr>\n",
       "    <tr>\n",
       "      <th>1</th>\n",
       "      <td>https://www.businesstoday.in/top-story/state-r...</td>\n",
       "      <td>State-run lenders require an urgent Rs 1.2 tri...</td>\n",
       "      <td>government will have to take a bulk of the tab...</td>\n",
       "      <td>0</td>\n",
       "      <td>India</td>\n",
       "    </tr>\n",
       "    <tr>\n",
       "      <th>2</th>\n",
       "      <td>https://www.financialexpress.com/economy/covid...</td>\n",
       "      <td>Apparel exporters on Wednesday urged the gover...</td>\n",
       "      <td>exporters are facing issues in terms of raw ma...</td>\n",
       "      <td>0</td>\n",
       "      <td>India</td>\n",
       "    </tr>\n",
       "    <tr>\n",
       "      <th>3</th>\n",
       "      <td>https://www.moneycontrol.com/news/business/mar...</td>\n",
       "      <td>Asian shares battled to extend a global reboun...</td>\n",
       "      <td>the dollar loses some ground on the safe haven...</td>\n",
       "      <td>0</td>\n",
       "      <td>India</td>\n",
       "    </tr>\n",
       "    <tr>\n",
       "      <th>4</th>\n",
       "      <td>https://www.financialexpress.com/industry/six-...</td>\n",
       "      <td>After India’s sovereign credit rating fell to ...</td>\n",
       "      <td>six Indian public-sector undertakings have tak...</td>\n",
       "      <td>0</td>\n",
       "      <td>India</td>\n",
       "    </tr>\n",
       "  </tbody>\n",
       "</table>\n",
       "</div>"
      ],
      "text/plain": [
       "                                                 URL  \\\n",
       "0  https://www.moneycontrol.com/news/business/eco...   \n",
       "1  https://www.businesstoday.in/top-story/state-r...   \n",
       "2  https://www.financialexpress.com/economy/covid...   \n",
       "3  https://www.moneycontrol.com/news/business/mar...   \n",
       "4  https://www.financialexpress.com/industry/six-...   \n",
       "\n",
       "                                             Content  \\\n",
       "0  US consumer spending dropped by a record in Ap...   \n",
       "1  State-run lenders require an urgent Rs 1.2 tri...   \n",
       "2  Apparel exporters on Wednesday urged the gover...   \n",
       "3  Asian shares battled to extend a global reboun...   \n",
       "4  After India’s sovereign credit rating fell to ...   \n",
       "\n",
       "                                             Summary  Sentiment country  \n",
       "0  consumer spending plunges 13.6 percent in Apri...          0   India  \n",
       "1  government will have to take a bulk of the tab...          0   India  \n",
       "2  exporters are facing issues in terms of raw ma...          0   India  \n",
       "3  the dollar loses some ground on the safe haven...          0   India  \n",
       "4  six Indian public-sector undertakings have tak...          0   India  "
      ]
     },
     "execution_count": 3,
     "metadata": {},
     "output_type": "execute_result"
    }
   ],
   "source": [
    "df.head()"
   ]
  },
  {
   "cell_type": "code",
   "execution_count": 4,
   "id": "7cb73cf8-a419-414d-82fc-ed53e0f7b382",
   "metadata": {},
   "outputs": [],
   "source": [
    "dataset = Dataset.from_pandas(df_clean)\n",
    "train_df, test_df = train_test_split(df_clean, test_size=0.2, stratify=df_clean['Sentiment'], random_state=42)\n",
    "train_df, val_df = train_test_split(train_df, test_size=0.1, stratify=train_df['Sentiment'], random_state=42)"
   ]
  },
  {
   "cell_type": "code",
   "execution_count": 5,
   "id": "d7f0078f-64bf-46eb-b9e3-53d06970d5e6",
   "metadata": {},
   "outputs": [],
   "source": [
    "train_dataset = Dataset.from_pandas(train_df)\n",
    "val_dataset = Dataset.from_pandas(val_df)\n",
    "test_dataset = Dataset.from_pandas(test_df)\n"
   ]
  },
  {
   "cell_type": "code",
   "execution_count": 6,
   "id": "1bbf441e-5433-4f1b-9930-bb9428e8b2bc",
   "metadata": {},
   "outputs": [
    {
     "data": {
      "text/plain": [
       "{'Content': 'The fourth-generation Kia Rio has made its debut internationally with a list of new tech features along with the brand’s latest line-up of engines. Europe will get the updated hatchback later this year, but is it destined for the Indian market? The Kia Rio is currently in its fourth generation, and Kia has now revealed an updated model for 2021. The compact hatchback gets a new line of engines and all the latest technologies that now make it at par with the latest-generation model, its cousin — the Hyundai i20. One of the most exciting changes to the Rio is with the new line f powertrain options which include a version with a mild-hybrid system. There is also a new ‘clutch-by-wire’ semi-automatic transmission on offer which Kia is calling the IMT or Intelligent Manual Transmission. The new Rio is also equipped with Kia’s second-generation UVO Connect internet-enabled features which include telematics and advanced infotainment system. The exterior styling has been updated for the Rio, while the interior has also been reworked and Kia will also offer customisation options for the cabin. The cabin gets a new 8.0-inch touchscreen infotainment system with Apple CarPlay and Android Auto along with the above mentioned UVO Connect. There is also a 4.2-inch digital instrument cluster for the driver. While the customisation option for the interior are small colour trims inserts in various parts of the cabin, the GT-Line versions will use an all-black interior with inserts with a carbon-fibre like finish. As far an engine options g, the new Kia Rio is offered globally with a new 1.0-litre mild-hybrid engine for some markets, while the 1.0-litre T-GDi turbo petrol could be offered in others. There is also a 1.2-litre naturally aspirated petrol engine as well. Transmission duties in the Rio include a manual as standard, while a 7-speed DCT is offered on the T-GDi motor. Additionally, Kia has intruded a new ‘clutch-by-wire’ system that switches the engine off while coasting to a halt. This system would be found with the 1.0-litre mild-hybrid motor. The Kia Rio is scheduled to go on sale in Europe in the third quarter of 2020. But currently, there is no word from Kia Motors India when the Rio will make its arrival to India. Kia India is currently gearing up to introduce the sub-compact SUV, the Kia Sonet in India which will ruse the IMT transmission from the Rio, albeit in a different form.',\n",
       " 'Sentiment': 1,\n",
       " '__index_level_0__': 13669}"
      ]
     },
     "execution_count": 6,
     "metadata": {},
     "output_type": "execute_result"
    }
   ],
   "source": [
    "train_dataset[1]"
   ]
  },
  {
   "cell_type": "code",
   "execution_count": 7,
   "id": "4854cfb8-dad7-4155-b45c-0b6382ecf93e",
   "metadata": {},
   "outputs": [
    {
     "name": "stderr",
     "output_type": "stream",
     "text": [
      "Map: 100%|█████████████████████████████████████████████████████████████████████████████████████████████████████████████████| 19411/19411 [06:07<00:00, 52.80 examples/s]\n"
     ]
    }
   ],
   "source": [
    "\n",
    "train_tokenized = train_dataset.map(tokenize_function, batched=True)\n",
    "# val_tokenized = val_dataset.map(tokenize_function, batched=True)\n",
    "# test_tokenized = test_dataset.map(tokenize_function, batched=True)"
   ]
  },
  {
   "cell_type": "code",
   "execution_count": 3,
   "id": "b4715582-ae3f-48dc-9bf1-0a1841b1bf7b",
   "metadata": {},
   "outputs": [
    {
     "name": "stdout",
     "output_type": "stream",
     "text": [
      "CUDA is NOT available. Running on CPU.\n"
     ]
    }
   ],
   "source": [
    "import torch\n",
    "\n",
    "if torch.cuda.is_available():\n",
    "    print(\"CUDA is available. Running on GPU.\")\n",
    "else:\n",
    "    print(\"CUDA is NOT available. Running on CPU.\")"
   ]
  },
  {
   "cell_type": "code",
   "execution_count": 5,
   "id": "d8b32656-5db2-4785-9335-093632795a21",
   "metadata": {},
   "outputs": [
    {
     "name": "stdout",
     "output_type": "stream",
     "text": [
      "Sat May 24 20:47:49 2025       \n",
      "+-----------------------------------------------------------------------------------------+\n",
      "| NVIDIA-SMI 572.61                 Driver Version: 572.61         CUDA Version: 12.8     |\n",
      "|-----------------------------------------+------------------------+----------------------+\n",
      "| GPU  Name                  Driver-Model | Bus-Id          Disp.A | Volatile Uncorr. ECC |\n",
      "| Fan  Temp   Perf          Pwr:Usage/Cap |           Memory-Usage | GPU-Util  Compute M. |\n",
      "|                                         |                        |               MIG M. |\n",
      "|=========================================+========================+======================|\n",
      "|   0  NVIDIA GeForce GTX 1650      WDDM  |   00000000:01:00.0 Off |                  N/A |\n",
      "| N/A   51C    P0             15W /   50W |     241MiB /   4096MiB |      0%      Default |\n",
      "|                                         |                        |                  N/A |\n",
      "+-----------------------------------------+------------------------+----------------------+\n",
      "                                                                                         \n",
      "+-----------------------------------------------------------------------------------------+\n",
      "| Processes:                                                                              |\n",
      "|  GPU   GI   CI              PID   Type   Process name                        GPU Memory |\n",
      "|        ID   ID                                                               Usage      |\n",
      "|=========================================================================================|\n",
      "|    0   N/A  N/A             448    C+G   ...h_cw5n1h2txyewy\\SearchApp.exe      N/A      |\n",
      "|    0   N/A  N/A            1160    C+G   ...yb3d8bbwe\\WindowsTerminal.exe      N/A      |\n",
      "|    0   N/A  N/A           12936    C+G   ...h_cw5n1h2txyewy\\SearchApp.exe      N/A      |\n",
      "|    0   N/A  N/A           14536    C+G   ....0.3240.76\\msedgewebview2.exe      N/A      |\n",
      "|    0   N/A  N/A           14960    C+G   ...5n1h2txyewy\\TextInputHost.exe      N/A      |\n",
      "|    0   N/A  N/A           15404    C+G   ...r\\frontend\\Docker Desktop.exe      N/A      |\n",
      "|    0   N/A  N/A           16576    C+G   ...ms\\Microsoft VS Code\\Code.exe      N/A      |\n",
      "|    0   N/A  N/A           16648      C   ...al\\Programs\\Ollama\\ollama.exe      N/A      |\n",
      "+-----------------------------------------------------------------------------------------+\n"
     ]
    }
   ],
   "source": [
    "!nvidia-smi"
   ]
  },
  {
   "cell_type": "code",
   "execution_count": null,
   "id": "b6fd6228-463e-4add-8710-6854f5bf9757",
   "metadata": {},
   "outputs": [],
   "source": []
  }
 ],
 "metadata": {
  "kernelspec": {
   "display_name": "Python (env)",
   "language": "python",
   "name": "env"
  },
  "language_info": {
   "codemirror_mode": {
    "name": "ipython",
    "version": 3
   },
   "file_extension": ".py",
   "mimetype": "text/x-python",
   "name": "python",
   "nbconvert_exporter": "python",
   "pygments_lexer": "ipython3",
   "version": "3.10.17"
  }
 },
 "nbformat": 4,
 "nbformat_minor": 5
}
