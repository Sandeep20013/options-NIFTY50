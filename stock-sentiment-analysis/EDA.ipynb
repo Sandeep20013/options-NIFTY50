{
 "cells": [
  {
   "cell_type": "code",
   "execution_count": 1,
   "id": "ba8f3d40-3359-430b-9ce7-a5d08e2c31f9",
   "metadata": {},
   "outputs": [
    {
     "name": "stdout",
     "output_type": "stream",
     "text": [
      "^C\n"
     ]
    }
   ],
   "source": [
    "# !conda install pandas"
   ]
  },
  {
   "cell_type": "code",
   "execution_count": 1,
   "id": "4c1f8fbb",
   "metadata": {},
   "outputs": [],
   "source": [
    "import numpy as np\n",
    "import pandas as pd\n",
    "import matplotlib.pyplot as plt\n",
    "import seaborn as sns"
   ]
  },
  {
   "cell_type": "code",
   "execution_count": 2,
   "id": "6bb9e8da",
   "metadata": {},
   "outputs": [
    {
     "data": {
      "text/html": [
       "<div>\n",
       "<style scoped>\n",
       "    .dataframe tbody tr th:only-of-type {\n",
       "        vertical-align: middle;\n",
       "    }\n",
       "\n",
       "    .dataframe tbody tr th {\n",
       "        vertical-align: top;\n",
       "    }\n",
       "\n",
       "    .dataframe thead th {\n",
       "        text-align: right;\n",
       "    }\n",
       "</style>\n",
       "<table border=\"1\" class=\"dataframe\">\n",
       "  <thead>\n",
       "    <tr style=\"text-align: right;\">\n",
       "      <th></th>\n",
       "      <th>id</th>\n",
       "      <th>date</th>\n",
       "      <th>context</th>\n",
       "      <th>news</th>\n",
       "      <th>conversations</th>\n",
       "      <th>label</th>\n",
       "      <th>pct_change</th>\n",
       "    </tr>\n",
       "  </thead>\n",
       "  <tbody>\n",
       "    <tr>\n",
       "      <th>0</th>\n",
       "      <td>nifty_0</td>\n",
       "      <td>2010-01-06</td>\n",
       "      <td>date,open,high,low,close,adj_close,volume,pct_...</td>\n",
       "      <td>China Officials Likely Knew of Bad Milk\\nSony'...</td>\n",
       "      <td>[{'role': 'user', 'value': \"Project the $SPY i...</td>\n",
       "      <td>Neutral</td>\n",
       "      <td>0.0042</td>\n",
       "    </tr>\n",
       "    <tr>\n",
       "      <th>1</th>\n",
       "      <td>nifty_1</td>\n",
       "      <td>2010-01-07</td>\n",
       "      <td>date,open,high,low,close,adj_close,volume,pct_...</td>\n",
       "      <td>Britain Set for Next Step on Wind Power\\nJourn...</td>\n",
       "      <td>[{'role': 'user', 'value': \"Analyze market dat...</td>\n",
       "      <td>Neutral</td>\n",
       "      <td>0.0033</td>\n",
       "    </tr>\n",
       "    <tr>\n",
       "      <th>2</th>\n",
       "      <td>nifty_2</td>\n",
       "      <td>2010-01-11</td>\n",
       "      <td>date,open,high,low,close,adj_close,volume,pct_...</td>\n",
       "      <td>HK, China stocks rise on reforms; brokerages s...</td>\n",
       "      <td>[{'role': 'user', 'value': 'Forecast the $SPY ...</td>\n",
       "      <td>Fall</td>\n",
       "      <td>-0.0093</td>\n",
       "    </tr>\n",
       "    <tr>\n",
       "      <th>3</th>\n",
       "      <td>nifty_3</td>\n",
       "      <td>2010-01-12</td>\n",
       "      <td>date,open,high,low,close,adj_close,volume,pct_...</td>\n",
       "      <td>DemandTec Names Retail Challenge Grand Final W...</td>\n",
       "      <td>[{'role': 'user', 'value': 'Forecast the $SPY ...</td>\n",
       "      <td>Rise</td>\n",
       "      <td>0.0084</td>\n",
       "    </tr>\n",
       "    <tr>\n",
       "      <th>4</th>\n",
       "      <td>nifty_4</td>\n",
       "      <td>2010-01-13</td>\n",
       "      <td>date,open,high,low,close,adj_close,volume,pct_...</td>\n",
       "      <td>Gear Malfunction Suspected in United Jet Incid...</td>\n",
       "      <td>[{'role': 'user', 'value': 'Forecast the $SPY ...</td>\n",
       "      <td>Neutral</td>\n",
       "      <td>0.0027</td>\n",
       "    </tr>\n",
       "  </tbody>\n",
       "</table>\n",
       "</div>"
      ],
      "text/plain": [
       "        id       date                                            context  \\\n",
       "0  nifty_0 2010-01-06  date,open,high,low,close,adj_close,volume,pct_...   \n",
       "1  nifty_1 2010-01-07  date,open,high,low,close,adj_close,volume,pct_...   \n",
       "2  nifty_2 2010-01-11  date,open,high,low,close,adj_close,volume,pct_...   \n",
       "3  nifty_3 2010-01-12  date,open,high,low,close,adj_close,volume,pct_...   \n",
       "4  nifty_4 2010-01-13  date,open,high,low,close,adj_close,volume,pct_...   \n",
       "\n",
       "                                                news  \\\n",
       "0  China Officials Likely Knew of Bad Milk\\nSony'...   \n",
       "1  Britain Set for Next Step on Wind Power\\nJourn...   \n",
       "2  HK, China stocks rise on reforms; brokerages s...   \n",
       "3  DemandTec Names Retail Challenge Grand Final W...   \n",
       "4  Gear Malfunction Suspected in United Jet Incid...   \n",
       "\n",
       "                                       conversations    label  pct_change  \n",
       "0  [{'role': 'user', 'value': \"Project the $SPY i...  Neutral      0.0042  \n",
       "1  [{'role': 'user', 'value': \"Analyze market dat...  Neutral      0.0033  \n",
       "2  [{'role': 'user', 'value': 'Forecast the $SPY ...     Fall     -0.0093  \n",
       "3  [{'role': 'user', 'value': 'Forecast the $SPY ...     Rise      0.0084  \n",
       "4  [{'role': 'user', 'value': 'Forecast the $SPY ...  Neutral      0.0027  "
      ]
     },
     "execution_count": 2,
     "metadata": {},
     "output_type": "execute_result"
    }
   ],
   "source": [
    "df = pd.read_excel(\"postgres_scripts/NIFTY_dataset.xlsx\")\n",
    "df.head()"
   ]
  },
  {
   "cell_type": "code",
   "execution_count": 3,
   "id": "720651cd-4b5f-41dc-b069-4c8a3be43a6e",
   "metadata": {},
   "outputs": [
    {
     "name": "stdout",
     "output_type": "stream",
     "text": [
      "Britain Set for Next Step on Wind Power\n",
      "Journal Register Taps Paton as CEO\n",
      "Crude Settles\n",
      "\t\t\n",
      "\tBelow $83\n",
      "Gold Pressured by Dollar\n",
      "European Stocks Trade in Tight Ranges\n",
      "Shanghai Slides on PBOC Move\n",
      "Reliance MediaWorks Buys Film Processing Firm ilab UK\n",
      "Exchange Tightens ChiNext Rules\n",
      "Prudential to Buy UOB Unit\n",
      "Dollar, Commodities Break Usual Tie\n",
      "Small Banks Say a Cure Hurts\n",
      "Music Sales Sink Further\n",
      "Mesa Air Files Chapter 11\n",
      "Dollar Slide Deepens After Fed Minutes\n",
      "U.S. Airlines Claw Back\n",
      "Symetra Gets 2010 IPO Market Rolling\n",
      "Aberdeen Leads Race Over RBS Unit\n",
      "Judge Ends Lawsuit Against Wells Fargo\n",
      "U.K.'s Gas Buffers Struggle With Cold\n",
      "U.S. Now a Renters' Market\n",
      "FDIC Weighs Tying Fees to Banks' Pay\n"
     ]
    }
   ],
   "source": [
    "print(df['news'].iloc[1])\n"
   ]
  },
  {
   "cell_type": "code",
   "execution_count": 4,
   "id": "4002f8aa-4496-4884-9caa-f6cc5713c560",
   "metadata": {},
   "outputs": [],
   "source": [
    "from helpers.clean_data import IndianNewsDataCleaner\n"
   ]
  },
  {
   "cell_type": "code",
   "execution_count": 5,
   "id": "d0aac6b3-fe23-440d-bd08-ca1219b7c366",
   "metadata": {},
   "outputs": [],
   "source": [
    "cleaner = IndianNewsDataCleaner(df, country='India', label='label')\n"
   ]
  },
  {
   "cell_type": "code",
   "execution_count": 6,
   "id": "31222ab0-09f9-48d8-b01f-a45b7561838c",
   "metadata": {},
   "outputs": [
    {
     "name": "stdout",
     "output_type": "stream",
     "text": [
      "Before splitting rows:\n",
      "  Count: 1477\n",
      "  Min length: 369\n",
      "  Max length: 32767\n",
      "  Mean length: 9559.95\n",
      "\n",
      "After splitting rows:\n",
      "  Count: 231060\n",
      "  Min length: 1\n",
      "  Max length: 278\n",
      "  Mean length: 60.09\n",
      "\n",
      "Before filtering by length:\n",
      "  Count: 192654\n",
      "  Min length: 0\n",
      "  Max length: 265\n",
      "  Mean length: 59.90\n",
      "\n",
      "After filtering by length:\n",
      "  Count: 72773\n",
      "  Min length: 61\n",
      "  Max length: 265\n",
      "  Mean length: 86.92\n",
      "\n",
      "(1477, 7)\n"
     ]
    }
   ],
   "source": [
    "df_clean = (\n",
    "        cleaner\n",
    "        .map_sentiment()\n",
    "        .split_rows_in_pairs()\n",
    "        .add_country()\n",
    "        .clean_text()\n",
    "        .filter_data()\n",
    "        .get_clean_data()\n",
    "    )\n",
    "print(df.shape)"
   ]
  },
  {
   "cell_type": "code",
   "execution_count": 7,
   "id": "9e092ada-9cbd-4cc3-be17-e910517d4c01",
   "metadata": {},
   "outputs": [
    {
     "data": {
      "text/html": [
       "<div>\n",
       "<style scoped>\n",
       "    .dataframe tbody tr th:only-of-type {\n",
       "        vertical-align: middle;\n",
       "    }\n",
       "\n",
       "    .dataframe tbody tr th {\n",
       "        vertical-align: top;\n",
       "    }\n",
       "\n",
       "    .dataframe thead th {\n",
       "        text-align: right;\n",
       "    }\n",
       "</style>\n",
       "<table border=\"1\" class=\"dataframe\">\n",
       "  <thead>\n",
       "    <tr style=\"text-align: right;\">\n",
       "      <th></th>\n",
       "      <th>text</th>\n",
       "      <th>label</th>\n",
       "    </tr>\n",
       "  </thead>\n",
       "  <tbody>\n",
       "    <tr>\n",
       "      <th>52</th>\n",
       "      <td>penpowers worldcard mobile application scans b...</td>\n",
       "      <td>0</td>\n",
       "    </tr>\n",
       "    <tr>\n",
       "      <th>59</th>\n",
       "      <td>forex-euro at 3-wk high as dollar nurses losse...</td>\n",
       "      <td>0</td>\n",
       "    </tr>\n",
       "    <tr>\n",
       "      <th>60</th>\n",
       "      <td>hkbn shatters the millionth subscription mark ...</td>\n",
       "      <td>0</td>\n",
       "    </tr>\n",
       "    <tr>\n",
       "      <th>69</th>\n",
       "      <td>money markets-australia, china see stronger ca...</td>\n",
       "      <td>0</td>\n",
       "    </tr>\n",
       "    <tr>\n",
       "      <th>70</th>\n",
       "      <td>treasuries-dip as asia stocks jump, yield curv...</td>\n",
       "      <td>0</td>\n",
       "    </tr>\n",
       "  </tbody>\n",
       "</table>\n",
       "</div>"
      ],
      "text/plain": [
       "                                                 text  label\n",
       "52  penpowers worldcard mobile application scans b...      0\n",
       "59  forex-euro at 3-wk high as dollar nurses losse...      0\n",
       "60  hkbn shatters the millionth subscription mark ...      0\n",
       "69  money markets-australia, china see stronger ca...      0\n",
       "70  treasuries-dip as asia stocks jump, yield curv...      0"
      ]
     },
     "execution_count": 7,
     "metadata": {},
     "output_type": "execute_result"
    }
   ],
   "source": [
    "df_clean.head()"
   ]
  },
  {
   "cell_type": "code",
   "execution_count": 8,
   "id": "6f5ef46c-8d03-4e7b-a195-4b1dbd40a265",
   "metadata": {},
   "outputs": [
    {
     "data": {
      "text/plain": [
       "label\n",
       "1    38411\n",
       "2    20818\n",
       "0    13544\n",
       "Name: count, dtype: int64"
      ]
     },
     "execution_count": 8,
     "metadata": {},
     "output_type": "execute_result"
    }
   ],
   "source": [
    "df_clean.label.value_counts()"
   ]
  },
  {
   "cell_type": "code",
   "execution_count": 31,
   "id": "47d63643-14ca-4b42-9548-fb019e89103f",
   "metadata": {},
   "outputs": [],
   "source": [
    "df_clean['word_count'] = df_clean['text'].apply(lambda x: len(str(x).split()))\n",
    "\n",
    "# Char counts\n",
    "df_clean['char_count'] = df_clean['text'].apply(len)"
   ]
  },
  {
   "cell_type": "code",
   "execution_count": 32,
   "id": "31a5e99b-1c73-4fa2-8893-e0fe505341e7",
   "metadata": {},
   "outputs": [
    {
     "data": {
      "image/png": "[encoded data removed]",
      "text/plain": [
       "<Figure size 1200x500 with 2 Axes>"
      ]
     },
     "metadata": {},
     "output_type": "display_data"
    }
   ],
   "source": [
    "plt.figure(figsize=(12,5))\n",
    "\n",
    "plt.subplot(1,2,1)\n",
    "plt.hist(df['word_count'], bins=50, color='skyblue')\n",
    "plt.title('Distribution of Word Counts')\n",
    "plt.xlabel('Number of words')\n",
    "plt.ylabel('Frequency')\n",
    "\n",
    "plt.subplot(1,2,2)\n",
    "plt.hist(df['char_count'], bins=50, color='salmon')\n",
    "plt.title('Distribution of Character Counts')\n",
    "plt.xlabel('Number of characters')\n",
    "plt.ylabel('Frequency')\n",
    "\n",
    "plt.tight_layout()\n",
    "plt.show()"
   ]
  },
  {
   "cell_type": "code",
   "execution_count": 33,
   "id": "143f5c6a-aa7b-4fcc-8727-8e38f9f3769b",
   "metadata": {},
   "outputs": [
    {
     "name": "stdout",
     "output_type": "stream",
     "text": [
      "Word count stats:\n",
      "count    72773.000000\n",
      "mean        12.746376\n",
      "std          4.144056\n",
      "min          6.000000\n",
      "25%         10.000000\n",
      "50%         12.000000\n",
      "75%         14.000000\n",
      "90%         18.000000\n",
      "95%         21.000000\n",
      "max         44.000000\n",
      "Name: word_count, dtype: float64\n",
      "\n",
      "Character count stats:\n",
      "count    72773.000000\n",
      "mean        86.915710\n",
      "std         28.660618\n",
      "min         61.000000\n",
      "25%         66.000000\n",
      "50%         76.000000\n",
      "75%         98.000000\n",
      "90%        127.000000\n",
      "95%        148.000000\n",
      "max        265.000000\n",
      "Name: char_count, dtype: float64\n"
     ]
    }
   ],
   "source": [
    "print(\"Word count stats:\")\n",
    "print(df_clean['word_count'].describe(percentiles=[0.25, 0.5, 0.75, 0.9, 0.95]))\n",
    "\n",
    "print(\"\\nCharacter count stats:\")\n",
    "print(df_clean['char_count'].describe(percentiles=[0.25, 0.5, 0.75, 0.9, 0.95]))"
   ]
  },
  {
   "cell_type": "code",
   "execution_count": 36,
   "id": "7fa55f2a-d862-4c3d-af76-38ee1fe35d77",
   "metadata": {},
   "outputs": [
    {
     "name": "stdout",
     "output_type": "stream",
     "text": [
      "Index(['text', 'label', 'word_count', 'char_count'], dtype='object')\n"
     ]
    }
   ],
   "source": [
    "print(df_clean.columns)"
   ]
  },
  {
   "cell_type": "code",
   "execution_count": 37,
   "id": "b3450159",
   "metadata": {},
   "outputs": [
    {
     "name": "stdout",
     "output_type": "stream",
     "text": [
      "<class 'pandas.core.frame.DataFrame'>\n",
      "Index: 72773 entries, 52 to 231059\n",
      "Data columns (total 4 columns):\n",
      " #   Column      Non-Null Count  Dtype \n",
      "---  ------      --------------  ----- \n",
      " 0   text        72773 non-null  object\n",
      " 1   label       72773 non-null  int64 \n",
      " 2   word_count  72773 non-null  int64 \n",
      " 3   char_count  72773 non-null  int64 \n",
      "dtypes: int64(3), object(1)\n",
      "memory usage: 4.8+ MB\n"
     ]
    }
   ],
   "source": [
    "df_clean.info()"
   ]
  },
  {
   "cell_type": "code",
   "execution_count": 38,
   "id": "9737e3f3",
   "metadata": {},
   "outputs": [
    {
     "data": {
      "text/plain": [
       "label\n",
       "1    38411\n",
       "2    20818\n",
       "0    13544\n",
       "Name: count, dtype: int64"
      ]
     },
     "execution_count": 38,
     "metadata": {},
     "output_type": "execute_result"
    }
   ],
   "source": [
    "df_clean['label'].value_counts()"
   ]
  },
  {
   "cell_type": "code",
   "execution_count": 39,
   "id": "b973195b",
   "metadata": {},
   "outputs": [
    {
     "data": {
      "text/plain": [
       "text          0\n",
       "label         0\n",
       "word_count    0\n",
       "char_count    0\n",
       "dtype: int64"
      ]
     },
     "execution_count": 39,
     "metadata": {},
     "output_type": "execute_result"
    }
   ],
   "source": [
    "df_clean.isna().sum()"
   ]
  },
  {
   "cell_type": "code",
   "execution_count": 41,
   "id": "156e7579",
   "metadata": {},
   "outputs": [
    {
     "data": {
      "text/html": [
       "<div>\n",
       "<style scoped>\n",
       "    .dataframe tbody tr th:only-of-type {\n",
       "        vertical-align: middle;\n",
       "    }\n",
       "\n",
       "    .dataframe tbody tr th {\n",
       "        vertical-align: top;\n",
       "    }\n",
       "\n",
       "    .dataframe thead th {\n",
       "        text-align: right;\n",
       "    }\n",
       "</style>\n",
       "<table border=\"1\" class=\"dataframe\">\n",
       "  <thead>\n",
       "    <tr style=\"text-align: right;\">\n",
       "      <th></th>\n",
       "      <th>text</th>\n",
       "      <th>label</th>\n",
       "      <th>word_count</th>\n",
       "      <th>char_count</th>\n",
       "    </tr>\n",
       "  </thead>\n",
       "  <tbody>\n",
       "    <tr>\n",
       "      <th>52</th>\n",
       "      <td>penpowers worldcard mobile application scans business cards into the iphone</td>\n",
       "      <td>0</td>\n",
       "      <td>10</td>\n",
       "      <td>75</td>\n",
       "    </tr>\n",
       "    <tr>\n",
       "      <th>59</th>\n",
       "      <td>forex-euro at 3-wk high as dollar nurses losses after jobs data</td>\n",
       "      <td>0</td>\n",
       "      <td>11</td>\n",
       "      <td>63</td>\n",
       "    </tr>\n",
       "    <tr>\n",
       "      <th>60</th>\n",
       "      <td>hkbn shatters the millionth subscription mark driven by strong broadband subscription...</td>\n",
       "      <td>0</td>\n",
       "      <td>11</td>\n",
       "      <td>88</td>\n",
       "    </tr>\n",
       "    <tr>\n",
       "      <th>69</th>\n",
       "      <td>money markets-australia, china see stronger case for rate hikes</td>\n",
       "      <td>0</td>\n",
       "      <td>9</td>\n",
       "      <td>63</td>\n",
       "    </tr>\n",
       "    <tr>\n",
       "      <th>70</th>\n",
       "      <td>treasuries-dip as asia stocks jump, yield curve steepest ever</td>\n",
       "      <td>0</td>\n",
       "      <td>9</td>\n",
       "      <td>61</td>\n",
       "    </tr>\n",
       "  </tbody>\n",
       "</table>\n",
       "</div>"
      ],
      "text/plain": [
       "                                                                                        text  \\\n",
       "52               penpowers worldcard mobile application scans business cards into the iphone   \n",
       "59                           forex-euro at 3-wk high as dollar nurses losses after jobs data   \n",
       "60  hkbn shatters the millionth subscription mark driven by strong broadband subscription...   \n",
       "69                           money markets-australia, china see stronger case for rate hikes   \n",
       "70                             treasuries-dip as asia stocks jump, yield curve steepest ever   \n",
       "\n",
       "    label  word_count  char_count  \n",
       "52      0          10          75  \n",
       "59      0          11          63  \n",
       "60      0          11          88  \n",
       "69      0           9          63  \n",
       "70      0           9          61  "
      ]
     },
     "execution_count": 41,
     "metadata": {},
     "output_type": "execute_result"
    }
   ],
   "source": [
    "df_clean.head()"
   ]
  },
  {
   "cell_type": "code",
   "execution_count": 42,
   "id": "be578ada",
   "metadata": {},
   "outputs": [
    {
     "data": {
      "text/plain": [
       "(72773, 4)"
      ]
     },
     "execution_count": 42,
     "metadata": {},
     "output_type": "execute_result"
    }
   ],
   "source": [
    "df_clean.shape"
   ]
  },
  {
   "cell_type": "code",
   "execution_count": 44,
   "id": "1c229c67",
   "metadata": {},
   "outputs": [
    {
     "data": {
      "text/plain": [
       "<Axes: xlabel='label'>"
      ]
     },
     "execution_count": 44,
     "metadata": {},
     "output_type": "execute_result"
    },
    {
     "data": {
      "image/png": "[encoded data removed]",
      "text/plain": [
       "<Figure size 640x480 with 1 Axes>"
      ]
     },
     "metadata": {},
     "output_type": "display_data"
    }
   ],
   "source": [
    "df_clean['label'].value_counts().plot(kind = 'bar')"
   ]
  },
  {
   "cell_type": "code",
   "execution_count": 22,
   "id": "d8ffa5cd",
   "metadata": {},
   "outputs": [
    {
     "data": {
      "text/html": [
       "<div>\n",
       "<style scoped>\n",
       "    .dataframe tbody tr th:only-of-type {\n",
       "        vertical-align: middle;\n",
       "    }\n",
       "\n",
       "    .dataframe tbody tr th {\n",
       "        vertical-align: top;\n",
       "    }\n",
       "\n",
       "    .dataframe thead th {\n",
       "        text-align: right;\n",
       "    }\n",
       "</style>\n",
       "<table border=\"1\" class=\"dataframe\">\n",
       "  <thead>\n",
       "    <tr style=\"text-align: right;\">\n",
       "      <th></th>\n",
       "      <th>id</th>\n",
       "      <th>date</th>\n",
       "      <th>context</th>\n",
       "      <th>news</th>\n",
       "      <th>conversations</th>\n",
       "      <th>label</th>\n",
       "      <th>pct_change</th>\n",
       "      <th>word_count</th>\n",
       "      <th>char_count</th>\n",
       "    </tr>\n",
       "  </thead>\n",
       "  <tbody>\n",
       "    <tr>\n",
       "      <th>1472</th>\n",
       "      <td>nifty_1472</td>\n",
       "      <td>2017-06-20</td>\n",
       "      <td>date,open,high,low,close,adj_close,volume,pct_...</td>\n",
       "      <td>Court Denies States’ Request for Leftover Mone...</td>\n",
       "      <td>[{'role': 'user', 'value': \"Assess market data...</td>\n",
       "      <td>Neutral</td>\n",
       "      <td>-0.0002</td>\n",
       "      <td>NaN</td>\n",
       "      <td>NaN</td>\n",
       "    </tr>\n",
       "    <tr>\n",
       "      <th>1473</th>\n",
       "      <td>nifty_1473</td>\n",
       "      <td>2017-06-21</td>\n",
       "      <td>date,open,high,low,close,adj_close,volume,pct_...</td>\n",
       "      <td>BOJ Deputy Gov Sees No Need to Increase Rates ...</td>\n",
       "      <td>[{'role': 'user', 'value': \"To predict the dir...</td>\n",
       "      <td>Neutral</td>\n",
       "      <td>-0.0005</td>\n",
       "      <td>NaN</td>\n",
       "      <td>NaN</td>\n",
       "    </tr>\n",
       "    <tr>\n",
       "      <th>1474</th>\n",
       "      <td>nifty_1474</td>\n",
       "      <td>2017-06-22</td>\n",
       "      <td>date,open,high,low,close,adj_close,volume,pct_...</td>\n",
       "      <td>Big Pharma Plays It Safe on Senate Health Bill...</td>\n",
       "      <td>[{'role': 'user', 'value': \"Predict the $SPY i...</td>\n",
       "      <td>Neutral</td>\n",
       "      <td>0.0012</td>\n",
       "      <td>NaN</td>\n",
       "      <td>NaN</td>\n",
       "    </tr>\n",
       "    <tr>\n",
       "      <th>1475</th>\n",
       "      <td>nifty_1475</td>\n",
       "      <td>2017-06-26</td>\n",
       "      <td>date,open,high,low,close,adj_close,volume,pct_...</td>\n",
       "      <td>CFO Tries to Keep Cycling Company From Spinnin...</td>\n",
       "      <td>[{'role': 'user', 'value': \"Project the $SPY i...</td>\n",
       "      <td>Fall</td>\n",
       "      <td>-0.0081</td>\n",
       "      <td>NaN</td>\n",
       "      <td>NaN</td>\n",
       "    </tr>\n",
       "    <tr>\n",
       "      <th>1476</th>\n",
       "      <td>nifty_1476</td>\n",
       "      <td>2017-06-27</td>\n",
       "      <td>date,open,high,low,close,adj_close,volume,pct_...</td>\n",
       "      <td>MSCI Already Talking About Adding More Chinese...</td>\n",
       "      <td>[{'role': 'user', 'value': \"To predict the dir...</td>\n",
       "      <td>Rise</td>\n",
       "      <td>0.0090</td>\n",
       "      <td>NaN</td>\n",
       "      <td>NaN</td>\n",
       "    </tr>\n",
       "  </tbody>\n",
       "</table>\n",
       "</div>"
      ],
      "text/plain": [
       "              id       date  \\\n",
       "1472  nifty_1472 2017-06-20   \n",
       "1473  nifty_1473 2017-06-21   \n",
       "1474  nifty_1474 2017-06-22   \n",
       "1475  nifty_1475 2017-06-26   \n",
       "1476  nifty_1476 2017-06-27   \n",
       "\n",
       "                                                context  \\\n",
       "1472  date,open,high,low,close,adj_close,volume,pct_...   \n",
       "1473  date,open,high,low,close,adj_close,volume,pct_...   \n",
       "1474  date,open,high,low,close,adj_close,volume,pct_...   \n",
       "1475  date,open,high,low,close,adj_close,volume,pct_...   \n",
       "1476  date,open,high,low,close,adj_close,volume,pct_...   \n",
       "\n",
       "                                                   news  \\\n",
       "1472  Court Denies States’ Request for Leftover Mone...   \n",
       "1473  BOJ Deputy Gov Sees No Need to Increase Rates ...   \n",
       "1474  Big Pharma Plays It Safe on Senate Health Bill...   \n",
       "1475  CFO Tries to Keep Cycling Company From Spinnin...   \n",
       "1476  MSCI Already Talking About Adding More Chinese...   \n",
       "\n",
       "                                          conversations    label  pct_change  \\\n",
       "1472  [{'role': 'user', 'value': \"Assess market data...  Neutral     -0.0002   \n",
       "1473  [{'role': 'user', 'value': \"To predict the dir...  Neutral     -0.0005   \n",
       "1474  [{'role': 'user', 'value': \"Predict the $SPY i...  Neutral      0.0012   \n",
       "1475  [{'role': 'user', 'value': \"Project the $SPY i...     Fall     -0.0081   \n",
       "1476  [{'role': 'user', 'value': \"To predict the dir...     Rise      0.0090   \n",
       "\n",
       "      word_count  char_count  \n",
       "1472         NaN         NaN  \n",
       "1473         NaN         NaN  \n",
       "1474         NaN         NaN  \n",
       "1475         NaN         NaN  \n",
       "1476         NaN         NaN  "
      ]
     },
     "execution_count": 22,
     "metadata": {},
     "output_type": "execute_result"
    }
   ],
   "source": [
    "df.tail()"
   ]
  },
  {
   "cell_type": "code",
   "execution_count": 46,
   "id": "cd2bd091",
   "metadata": {},
   "outputs": [],
   "source": [
    "# Character count\n",
    "df_clean['char_length'] = df_clean['text'].str.len()\n",
    "df_clean['token_length'] = df_clean['text'].str.split().apply(len)"
   ]
  },
  {
   "cell_type": "code",
   "execution_count": 48,
   "id": "cb718dfc",
   "metadata": {},
   "outputs": [
    {
     "data": {
      "image/png": "[encoded data removed]",
      "text/plain": [
       "<Figure size 1000x500 with 1 Axes>"
      ]
     },
     "metadata": {},
     "output_type": "display_data"
    }
   ],
   "source": [
    "plt.figure(figsize=(10, 5))\n",
    "sns.histplot(data=df_clean, x='char_length', bins=50, kde=True, color='r')\n",
    "plt.title('Distribution of Headline Lengths (Characters)')\n",
    "plt.xlabel('Character Count')\n",
    "plt.ylabel('Frequency')\n",
    "plt.show()"
   ]
  },
  {
   "cell_type": "code",
   "execution_count": 49,
   "id": "a26e2db7",
   "metadata": {},
   "outputs": [
    {
     "data": {
      "image/png": "[encoded data removed]",
      "text/plain": [
       "<Figure size 1000x500 with 1 Axes>"
      ]
     },
     "metadata": {},
     "output_type": "display_data"
    }
   ],
   "source": [
    "# Token length histogram\n",
    "plt.figure(figsize=(10, 5))\n",
    "sns.histplot(df_clean['token_length'], bins=50, kde=True, color='r')\n",
    "plt.title('Distribution of Headline Lengths (Tokens)')\n",
    "plt.xlabel('Token Count')\n",
    "plt.ylabel('Frequency')\n",
    "plt.show()"
   ]
  },
  {
   "cell_type": "code",
   "execution_count": 50,
   "id": "3a923509",
   "metadata": {},
   "outputs": [
    {
     "data": {
      "text/plain": [
       "(72773, 6)"
      ]
     },
     "execution_count": 50,
     "metadata": {},
     "output_type": "execute_result"
    }
   ],
   "source": [
    "df_clean[df_clean['char_length'] >= 30].shape"
   ]
  },
  {
   "cell_type": "code",
   "execution_count": 51,
   "id": "d14c14ea",
   "metadata": {},
   "outputs": [],
   "source": [
    "df_clean['country'] = 'India'"
   ]
  },
  {
   "cell_type": "code",
   "execution_count": 52,
   "id": "15fce489",
   "metadata": {},
   "outputs": [
    {
     "data": {
      "text/html": [
       "<div>\n",
       "<style scoped>\n",
       "    .dataframe tbody tr th:only-of-type {\n",
       "        vertical-align: middle;\n",
       "    }\n",
       "\n",
       "    .dataframe tbody tr th {\n",
       "        vertical-align: top;\n",
       "    }\n",
       "\n",
       "    .dataframe thead th {\n",
       "        text-align: right;\n",
       "    }\n",
       "</style>\n",
       "<table border=\"1\" class=\"dataframe\">\n",
       "  <thead>\n",
       "    <tr style=\"text-align: right;\">\n",
       "      <th></th>\n",
       "      <th>text</th>\n",
       "      <th>label</th>\n",
       "      <th>word_count</th>\n",
       "      <th>char_count</th>\n",
       "      <th>char_length</th>\n",
       "      <th>token_length</th>\n",
       "      <th>country</th>\n",
       "    </tr>\n",
       "  </thead>\n",
       "  <tbody>\n",
       "    <tr>\n",
       "      <th>52</th>\n",
       "      <td>penpowers worldcard mobile application scans business cards into the iphone</td>\n",
       "      <td>0</td>\n",
       "      <td>10</td>\n",
       "      <td>75</td>\n",
       "      <td>75</td>\n",
       "      <td>10</td>\n",
       "      <td>India</td>\n",
       "    </tr>\n",
       "    <tr>\n",
       "      <th>59</th>\n",
       "      <td>forex-euro at 3-wk high as dollar nurses losses after jobs data</td>\n",
       "      <td>0</td>\n",
       "      <td>11</td>\n",
       "      <td>63</td>\n",
       "      <td>63</td>\n",
       "      <td>11</td>\n",
       "      <td>India</td>\n",
       "    </tr>\n",
       "    <tr>\n",
       "      <th>60</th>\n",
       "      <td>hkbn shatters the millionth subscription mark driven by strong broadband subscription...</td>\n",
       "      <td>0</td>\n",
       "      <td>11</td>\n",
       "      <td>88</td>\n",
       "      <td>88</td>\n",
       "      <td>11</td>\n",
       "      <td>India</td>\n",
       "    </tr>\n",
       "    <tr>\n",
       "      <th>69</th>\n",
       "      <td>money markets-australia, china see stronger case for rate hikes</td>\n",
       "      <td>0</td>\n",
       "      <td>9</td>\n",
       "      <td>63</td>\n",
       "      <td>63</td>\n",
       "      <td>9</td>\n",
       "      <td>India</td>\n",
       "    </tr>\n",
       "    <tr>\n",
       "      <th>70</th>\n",
       "      <td>treasuries-dip as asia stocks jump, yield curve steepest ever</td>\n",
       "      <td>0</td>\n",
       "      <td>9</td>\n",
       "      <td>61</td>\n",
       "      <td>61</td>\n",
       "      <td>9</td>\n",
       "      <td>India</td>\n",
       "    </tr>\n",
       "  </tbody>\n",
       "</table>\n",
       "</div>"
      ],
      "text/plain": [
       "                                                                                        text  \\\n",
       "52               penpowers worldcard mobile application scans business cards into the iphone   \n",
       "59                           forex-euro at 3-wk high as dollar nurses losses after jobs data   \n",
       "60  hkbn shatters the millionth subscription mark driven by strong broadband subscription...   \n",
       "69                           money markets-australia, china see stronger case for rate hikes   \n",
       "70                             treasuries-dip as asia stocks jump, yield curve steepest ever   \n",
       "\n",
       "    label  word_count  char_count  char_length  token_length country  \n",
       "52      0          10          75           75            10   India  \n",
       "59      0          11          63           63            11   India  \n",
       "60      0          11          88           88            11   India  \n",
       "69      0           9          63           63             9   India  \n",
       "70      0           9          61           61             9   India  "
      ]
     },
     "execution_count": 52,
     "metadata": {},
     "output_type": "execute_result"
    }
   ],
   "source": [
    "df_clean.head()"
   ]
  },
  {
   "cell_type": "code",
   "execution_count": 54,
   "id": "8e6953c3",
   "metadata": {},
   "outputs": [
    {
     "name": "stderr",
     "output_type": "stream",
     "text": [
      "C:\\Users\\sande\\AppData\\Local\\Temp\\ipykernel_21480\\3990568563.py:1: FutureWarning: \n",
      "\n",
      "Passing `palette` without assigning `hue` is deprecated and will be removed in v0.14.0. Assign the `x` variable to `hue` and set `legend=False` for the same effect.\n",
      "\n",
      "  sns.countplot(data=df_clean, x='label', palette='flare' )\n"
     ]
    },
    {
     "data": {
      "image/png": "[encoded data removed]",
      "text/plain": [
       "<Figure size 640x480 with 1 Axes>"
      ]
     },
     "metadata": {},
     "output_type": "display_data"
    },
    {
     "name": "stdout",
     "output_type": "stream",
     "text": [
      "label\n",
      "1    52.781938\n",
      "2    28.606763\n",
      "0    18.611298\n",
      "Name: proportion, dtype: float64\n"
     ]
    }
   ],
   "source": [
    "sns.countplot(data=df_clean, x='label', palette='flare' )\n",
    "plt.title(\"Sentiment Class Distribution\")\n",
    "plt.xlabel(\"Sentiment\")\n",
    "plt.ylabel(\"Count\")\n",
    "plt.show()\n",
    "\n",
    "print(df_clean['label'].value_counts(normalize=True) * 100)"
   ]
  },
  {
   "cell_type": "code",
   "execution_count": 55,
   "id": "0be3a5a7",
   "metadata": {},
   "outputs": [
    {
     "data": {
      "text/html": [
       "<div>\n",
       "<style scoped>\n",
       "    .dataframe tbody tr th:only-of-type {\n",
       "        vertical-align: middle;\n",
       "    }\n",
       "\n",
       "    .dataframe tbody tr th {\n",
       "        vertical-align: top;\n",
       "    }\n",
       "\n",
       "    .dataframe thead th {\n",
       "        text-align: right;\n",
       "    }\n",
       "</style>\n",
       "<table border=\"1\" class=\"dataframe\">\n",
       "  <thead>\n",
       "    <tr style=\"text-align: right;\">\n",
       "      <th></th>\n",
       "      <th>text</th>\n",
       "      <th>label</th>\n",
       "      <th>word_count</th>\n",
       "      <th>char_count</th>\n",
       "      <th>char_length</th>\n",
       "      <th>token_length</th>\n",
       "      <th>country</th>\n",
       "    </tr>\n",
       "  </thead>\n",
       "  <tbody>\n",
       "    <tr>\n",
       "      <th>52</th>\n",
       "      <td>penpowers worldcard mobile application scans business cards into the iphone</td>\n",
       "      <td>0</td>\n",
       "      <td>10</td>\n",
       "      <td>75</td>\n",
       "      <td>75</td>\n",
       "      <td>10</td>\n",
       "      <td>India</td>\n",
       "    </tr>\n",
       "    <tr>\n",
       "      <th>59</th>\n",
       "      <td>forex-euro at 3-wk high as dollar nurses losses after jobs data</td>\n",
       "      <td>0</td>\n",
       "      <td>11</td>\n",
       "      <td>63</td>\n",
       "      <td>63</td>\n",
       "      <td>11</td>\n",
       "      <td>India</td>\n",
       "    </tr>\n",
       "    <tr>\n",
       "      <th>60</th>\n",
       "      <td>hkbn shatters the millionth subscription mark driven by strong broadband subscription...</td>\n",
       "      <td>0</td>\n",
       "      <td>11</td>\n",
       "      <td>88</td>\n",
       "      <td>88</td>\n",
       "      <td>11</td>\n",
       "      <td>India</td>\n",
       "    </tr>\n",
       "    <tr>\n",
       "      <th>69</th>\n",
       "      <td>money markets-australia, china see stronger case for rate hikes</td>\n",
       "      <td>0</td>\n",
       "      <td>9</td>\n",
       "      <td>63</td>\n",
       "      <td>63</td>\n",
       "      <td>9</td>\n",
       "      <td>India</td>\n",
       "    </tr>\n",
       "    <tr>\n",
       "      <th>70</th>\n",
       "      <td>treasuries-dip as asia stocks jump, yield curve steepest ever</td>\n",
       "      <td>0</td>\n",
       "      <td>9</td>\n",
       "      <td>61</td>\n",
       "      <td>61</td>\n",
       "      <td>9</td>\n",
       "      <td>India</td>\n",
       "    </tr>\n",
       "  </tbody>\n",
       "</table>\n",
       "</div>"
      ],
      "text/plain": [
       "                                                                                        text  \\\n",
       "52               penpowers worldcard mobile application scans business cards into the iphone   \n",
       "59                           forex-euro at 3-wk high as dollar nurses losses after jobs data   \n",
       "60  hkbn shatters the millionth subscription mark driven by strong broadband subscription...   \n",
       "69                           money markets-australia, china see stronger case for rate hikes   \n",
       "70                             treasuries-dip as asia stocks jump, yield curve steepest ever   \n",
       "\n",
       "    label  word_count  char_count  char_length  token_length country  \n",
       "52      0          10          75           75            10   India  \n",
       "59      0          11          63           63            11   India  \n",
       "60      0          11          88           88            11   India  \n",
       "69      0           9          63           63             9   India  \n",
       "70      0           9          61           61             9   India  "
      ]
     },
     "execution_count": 55,
     "metadata": {},
     "output_type": "execute_result"
    }
   ],
   "source": [
    "df_clean.head()"
   ]
  }
 ],
 "metadata": {
  "kernelspec": {
   "display_name": "Python (env)",
   "language": "python",
   "name": "env"
  },
  "language_info": {
   "codemirror_mode": {
    "name": "ipython",
    "version": 3
   },
   "file_extension": ".py",
   "mimetype": "text/x-python",
   "name": "python",
   "nbconvert_exporter": "python",
   "pygments_lexer": "ipython3",
   "version": "3.11.12"
  }
 },
 "nbformat": 4,
 "nbformat_minor": 5
}
